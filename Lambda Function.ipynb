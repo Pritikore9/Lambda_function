{
 "cells": [
  {
   "cell_type": "markdown",
   "id": "7b2e7889",
   "metadata": {},
   "source": [
    "#### lambda function is also called as anonymous function, which a functon without name."
   ]
  },
  {
   "cell_type": "code",
   "execution_count": 1,
   "id": "649e1ea2",
   "metadata": {},
   "outputs": [],
   "source": [
    "def add(a,b):\n",
    "    return a+b"
   ]
  },
  {
   "cell_type": "code",
   "execution_count": 2,
   "id": "d3af9c1c",
   "metadata": {},
   "outputs": [
    {
     "data": {
      "text/plain": [
       "5"
      ]
     },
     "execution_count": 2,
     "metadata": {},
     "output_type": "execute_result"
    }
   ],
   "source": [
    "add(2,3)"
   ]
  },
  {
   "cell_type": "code",
   "execution_count": 7,
   "id": "9eb23613",
   "metadata": {},
   "outputs": [],
   "source": [
    "add1=lambda a,b:a+b      # but it is possible if we have short code of function"
   ]
  },
  {
   "cell_type": "code",
   "execution_count": 8,
   "id": "3902f6e7",
   "metadata": {},
   "outputs": [
    {
     "data": {
      "text/plain": [
       "188"
      ]
     },
     "execution_count": 8,
     "metadata": {},
     "output_type": "execute_result"
    }
   ],
   "source": [
    "add1(90,98)     # it is only variable not a function"
   ]
  },
  {
   "cell_type": "code",
   "execution_count": 9,
   "id": "35f26dd3",
   "metadata": {},
   "outputs": [],
   "source": [
    "def even(no):\n",
    "    if no%2==0:\n",
    "        return True"
   ]
  },
  {
   "cell_type": "code",
   "execution_count": 10,
   "id": "935e97b4",
   "metadata": {},
   "outputs": [
    {
     "data": {
      "text/plain": [
       "True"
      ]
     },
     "execution_count": 10,
     "metadata": {},
     "output_type": "execute_result"
    }
   ],
   "source": [
    "even(98)"
   ]
  },
  {
   "cell_type": "code",
   "execution_count": 11,
   "id": "d86de9be",
   "metadata": {},
   "outputs": [],
   "source": [
    "even(99)"
   ]
  },
  {
   "cell_type": "code",
   "execution_count": 12,
   "id": "81c95272",
   "metadata": {},
   "outputs": [],
   "source": [
    "even1=lambda x:x%2==0"
   ]
  },
  {
   "cell_type": "code",
   "execution_count": 14,
   "id": "1a93a035",
   "metadata": {},
   "outputs": [
    {
     "data": {
      "text/plain": [
       "True"
      ]
     },
     "execution_count": 14,
     "metadata": {},
     "output_type": "execute_result"
    }
   ],
   "source": [
    "even1(78)"
   ]
  },
  {
   "cell_type": "code",
   "execution_count": 17,
   "id": "e647153b",
   "metadata": {},
   "outputs": [],
   "source": [
    "def multiple(a,b,c):\n",
    "    return a*b*c"
   ]
  },
  {
   "cell_type": "code",
   "execution_count": 18,
   "id": "ad10bcca",
   "metadata": {},
   "outputs": [
    {
     "data": {
      "text/plain": [
       "60"
      ]
     },
     "execution_count": 18,
     "metadata": {},
     "output_type": "execute_result"
    }
   ],
   "source": [
    "multiple(2,5,6)"
   ]
  },
  {
   "cell_type": "code",
   "execution_count": 19,
   "id": "1496c66f",
   "metadata": {},
   "outputs": [],
   "source": [
    "multi1=lambda a,b,c:a*b*c"
   ]
  },
  {
   "cell_type": "code",
   "execution_count": 20,
   "id": "cbb3efd2",
   "metadata": {},
   "outputs": [
    {
     "data": {
      "text/plain": [
       "504"
      ]
     },
     "execution_count": 20,
     "metadata": {},
     "output_type": "execute_result"
    }
   ],
   "source": [
    "multi1(9,8,7)"
   ]
  },
  {
   "cell_type": "code",
   "execution_count": null,
   "id": "0530e602",
   "metadata": {},
   "outputs": [],
   "source": []
  }
 ],
 "metadata": {
  "kernelspec": {
   "display_name": "Python 3 (ipykernel)",
   "language": "python",
   "name": "python3"
  },
  "language_info": {
   "codemirror_mode": {
    "name": "ipython",
    "version": 3
   },
   "file_extension": ".py",
   "mimetype": "text/x-python",
   "name": "python",
   "nbconvert_exporter": "python",
   "pygments_lexer": "ipython3",
   "version": "3.9.12"
  }
 },
 "nbformat": 4,
 "nbformat_minor": 5
}
